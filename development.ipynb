{
 "cells": [
  {
   "cell_type": "code",
   "execution_count": 1,
   "id": "2870e4b2-744c-469a-9c37-0d367101bba9",
   "metadata": {},
   "outputs": [
    {
     "name": "stdout",
     "output_type": "stream",
     "text": [
      "Collecting pandas\n",
      "  Downloading pandas-2.3.1-cp313-cp313-win_amd64.whl.metadata (19 kB)\n",
      "Collecting numpy>=1.26.0 (from pandas)\n",
      "  Downloading numpy-2.3.1-cp313-cp313-win_amd64.whl.metadata (60 kB)\n",
      "Requirement already satisfied: python-dateutil>=2.8.2 in d:\\study\\tech study\\superteams.ai assignment\\llm-sql-chatbot\\venv\\lib\\site-packages (from pandas) (2.9.0.post0)\n",
      "Collecting pytz>=2020.1 (from pandas)\n",
      "  Using cached pytz-2025.2-py2.py3-none-any.whl.metadata (22 kB)\n",
      "Collecting tzdata>=2022.7 (from pandas)\n",
      "  Using cached tzdata-2025.2-py2.py3-none-any.whl.metadata (1.4 kB)\n",
      "Requirement already satisfied: six>=1.5 in d:\\study\\tech study\\superteams.ai assignment\\llm-sql-chatbot\\venv\\lib\\site-packages (from python-dateutil>=2.8.2->pandas) (1.17.0)\n",
      "Downloading pandas-2.3.1-cp313-cp313-win_amd64.whl (11.0 MB)\n",
      "   ---------------------------------------- 0.0/11.0 MB ? eta -:--:--\n",
      "   ---------------------------------------- 0.0/11.0 MB ? eta -:--:--\n",
      "   ---------------------------------------- 0.0/11.0 MB ? eta -:--:--\n",
      "    --------------------------------------- 0.3/11.0 MB ? eta -:--:--\n",
      "   - -------------------------------------- 0.5/11.0 MB 990.6 kB/s eta 0:00:11\n",
      "   - -------------------------------------- 0.5/11.0 MB 990.6 kB/s eta 0:00:11\n",
      "   -- ------------------------------------- 0.8/11.0 MB 852.4 kB/s eta 0:00:12\n",
      "   -- ------------------------------------- 0.8/11.0 MB 852.4 kB/s eta 0:00:12\n",
      "   --- ------------------------------------ 1.0/11.0 MB 755.3 kB/s eta 0:00:14\n",
      "   ----- ---------------------------------- 1.6/11.0 MB 915.4 kB/s eta 0:00:11\n",
      "   --------- ------------------------------ 2.6/11.0 MB 1.4 MB/s eta 0:00:06\n",
      "   --------------- ------------------------ 4.2/11.0 MB 2.1 MB/s eta 0:00:04\n",
      "   ---------------------- ----------------- 6.3/11.0 MB 2.9 MB/s eta 0:00:02\n",
      "   ------------------------------ --------- 8.4/11.0 MB 3.6 MB/s eta 0:00:01\n",
      "   ------------------------------------- -- 10.2/11.0 MB 4.0 MB/s eta 0:00:01\n",
      "   ---------------------------------------- 11.0/11.0 MB 4.0 MB/s eta 0:00:00\n",
      "Downloading numpy-2.3.1-cp313-cp313-win_amd64.whl (12.7 MB)\n",
      "   ---------------------------------------- 0.0/12.7 MB ? eta -:--:--\n",
      "   ------ --------------------------------- 2.1/12.7 MB 10.3 MB/s eta 0:00:02\n",
      "   ------------- -------------------------- 4.2/12.7 MB 10.4 MB/s eta 0:00:01\n",
      "   ------------------- -------------------- 6.3/12.7 MB 10.4 MB/s eta 0:00:01\n",
      "   ----------------------- ---------------- 7.3/12.7 MB 9.9 MB/s eta 0:00:01\n",
      "   ----------------------- ---------------- 7.6/12.7 MB 7.3 MB/s eta 0:00:01\n",
      "   --------------------------- ------------ 8.7/12.7 MB 6.8 MB/s eta 0:00:01\n",
      "   -------------------------------- ------- 10.5/12.7 MB 7.1 MB/s eta 0:00:01\n",
      "   ------------------------------------- -- 12.1/12.7 MB 7.1 MB/s eta 0:00:01\n",
      "   ---------------------------------------- 12.7/12.7 MB 7.0 MB/s eta 0:00:00\n",
      "Using cached pytz-2025.2-py2.py3-none-any.whl (509 kB)\n",
      "Using cached tzdata-2025.2-py2.py3-none-any.whl (347 kB)\n",
      "Installing collected packages: pytz, tzdata, numpy, pandas\n",
      "Successfully installed numpy-2.3.1 pandas-2.3.1 pytz-2025.2 tzdata-2025.2\n",
      "Note: you may need to restart the kernel to use updated packages.\n"
     ]
    },
    {
     "name": "stderr",
     "output_type": "stream",
     "text": [
      "\n",
      "[notice] A new release of pip is available: 24.3.1 -> 25.1.1\n",
      "[notice] To update, run: python.exe -m pip install --upgrade pip\n"
     ]
    }
   ],
   "source": [
    "pip install pandas"
   ]
  },
  {
   "cell_type": "code",
   "execution_count": null,
   "id": "0e257ed6",
   "metadata": {},
   "outputs": [
    {
     "name": "stdout",
     "output_type": "stream",
     "text": [
      "Libraries loaded and environment variables are ready.\n"
     ]
    }
   ],
   "source": [
    "import os\n",
    "from dotenv import load_dotenv\n",
    "from groq import Groq\n",
    "import sqlalchemy\n",
    "\n",
    "# Loading variables from the .env file\n",
    "load_dotenv()\n",
    "\n",
    "print(\"Libraries loaded and environment variables are ready.\")"
   ]
  },
  {
   "cell_type": "code",
   "execution_count": 6,
   "id": "22f9ebee",
   "metadata": {},
   "outputs": [
    {
     "name": "stdout",
     "output_type": "stream",
     "text": [
      "Failed to connect to the database. Error: (psycopg2.OperationalError) could not translate host name \"77049@localhost\" to address: Non-recoverable failure in name resolution\n",
      "\n",
      "(Background on this error at: https://sqlalche.me/e/20/e3q8)\n"
     ]
    }
   ],
   "source": [
    "# Getting the database URL from environment variables\n",
    "db_url = os.getenv(\"DB_URL\")\n",
    "\n",
    "try:\n",
    "    # Creating a SQLAlchemy engine to connect to the database\n",
    "    engine = sqlalchemy.create_engine(db_url)\n",
    "    \n",
    "    # Testing the connection by fetching the first customer\n",
    "    with engine.connect() as connection:\n",
    "        result = connection.execute(sqlalchemy.text(\"SELECT name FROM customers LIMIT 1;\"))\n",
    "        for row in result:\n",
    "            print(f\"Successfully connected to the database. Found customer: {row.name}\")\n",
    "\n",
    "except Exception as e:\n",
    "    print(f\"Failed to connect to the database. Error: {e}\")"
   ]
  }
 ],
 "metadata": {
  "kernelspec": {
   "display_name": "venv (3.13.1)",
   "language": "python",
   "name": "python3"
  },
  "language_info": {
   "codemirror_mode": {
    "name": "ipython",
    "version": 3
   },
   "file_extension": ".py",
   "mimetype": "text/x-python",
   "name": "python",
   "nbconvert_exporter": "python",
   "pygments_lexer": "ipython3",
   "version": "3.13.1"
  }
 },
 "nbformat": 4,
 "nbformat_minor": 5
}
