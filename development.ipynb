{
 "cells": [
  {
   "cell_type": "code",
   "execution_count": 101,
   "id": "2870e4b2-744c-469a-9c37-0d367101bba9",
   "metadata": {},
   "outputs": [
    {
     "name": "stdout",
     "output_type": "stream",
     "text": [
      "Libraries loaded and environment variables are ready.\n"
     ]
    }
   ],
   "source": [
    "import os\n",
    "import re\n",
    "from dotenv import load_dotenv\n",
    "from groq import Groq\n",
    "import sqlalchemy\n",
    "print(\"Libraries loaded and environment variables are ready.\")\n"
   ]
  },
  {
   "cell_type": "code",
   "execution_count": 108,
   "id": "0e257ed6",
   "metadata": {},
   "outputs": [
    {
     "name": "stdout",
     "output_type": "stream",
     "text": [
      "Successfully connected to the database. Found customer: Aisha Khan\n"
     ]
    }
   ],
   "source": [
    "db_url = os.getenv(\"DB_URL\")\n",
    "\n",
    "try:\n",
    "    # Create a SQLAlchemy engine to connect to the database\n",
    "    engine = sqlalchemy.create_engine(db_url)\n",
    "    \n",
    "    # Test the connection by fetching the first customer\n",
    "    with engine.connect() as connection:\n",
    "        result = connection.execute(sqlalchemy.text(\"SELECT name FROM customers LIMIT 1;\"))\n",
    "        for row in result:\n",
    "            print(f\"Successfully connected to the database. Found customer: {row.name}\")\n",
    "\n",
    "except Exception as e:\n",
    "    print(f\"Failed to connect to the database and Error: {e}\")\n"
   ]
  },
  {
   "cell_type": "code",
   "execution_count": 109,
   "id": "22f9ebee",
   "metadata": {},
   "outputs": [
    {
     "name": "stdout",
     "output_type": "stream",
     "text": [
      "System prompt for the simple schema is ready.\n"
     ]
    }
   ],
   "source": [
    "# Initialize the Groq client with your API key\n",
    "client = Groq(api_key=os.getenv(\"GROQ_API_KEY\"))\n",
    "\n",
    "# The updated system prompt for the simple, single-table schema\n",
    "SYSTEM_PROMPT = \"\"\"You are a specialized SQL Code Bot. Your single purpose is to convert a user's question into a single, clean, valid PostgreSQL query for the table provided below.\n",
    "\n",
    "### PRIMARY DIRECTIVE\n",
    "You will output ONLY the SQL query required. Nothing else. No comments, no explanations.\n",
    "\n",
    "### DATABASE SCHEMA\n",
    "CREATE TABLE customers (\n",
    "    customer_id SERIAL PRIMARY KEY,\n",
    "    name VARCHAR(255) NOT NULL,\n",
    "    gender VARCHAR(50),\n",
    "    location VARCHAR(255)\n",
    ");\n",
    "\n",
    "### RULES\n",
    "1.  For all text comparisons (gender, location, name), you MUST use the `ILIKE` operator for case-insensitivity.\n",
    "2.  For names, use wildcards for partial matches. Example: `name ILIKE '%arjun%'`.\n",
    "3.  Do NOT use JOINs. All data is in the `customers` table.\n",
    "\n",
    "### EXAMPLES\n",
    "* **User:** \"Show me all female customers from Mumbai\"\n",
    "* **Your SQL:** SELECT * FROM customers WHERE gender ILIKE 'female' AND location ILIKE 'mumbai';\n",
    "\n",
    "* **User:** \"who is arjun\"\n",
    "* **Your SQL:** SELECT * FROM customers WHERE name ILIKE '%arjun%';\n",
    "\n",
    "### FINAL OUTPUT\n",
    "Your entire response must be only the raw SQL query.\n",
    "\"\"\"\n",
    "\n",
    "print(\"System prompt for the simple schema is ready.\")"
   ]
  },
  {
   "cell_type": "code",
   "execution_count": null,
   "id": "b5979a07",
   "metadata": {},
   "outputs": [],
   "source": [
    "# Prompt the user to enter their question\n",
    "user_query = input(\"Please enter your query: \")\n",
    "\n",
    "print(f\"\\nUser Query: '{user_query}'\\n\")\n",
    "\n",
    "# Send the user query and system prompt to the LLM\n",
    "try:\n",
    "    chat_completion = client.chat.completions.create(\n",
    "        messages=[\n",
    "            {\n",
    "                \"role\": \"system\",\n",
    "                \"content\": SYSTEM_PROMPT,\n",
    "            },\n",
    "            {\n",
    "                \"role\": \"user\",\n",
    "                \"content\": user_query,\n",
    "            }\n",
    "        ],\n",
    "        model=\"llama3-8b-8192\",\n",
    "    )\n",
    "\n",
    "    # Extract the potentially messy response from the LLM\n",
    "    raw_response = chat_completion.choices[0].message.content.strip()\n",
    "    \n",
    "    # Use regex to find and extract only the SQL query from the response\n",
    "    sql_match = re.search(r\"SELECT.*?;\", raw_response, re.DOTALL | re.IGNORECASE)\n",
    "    \n",
    "    if not sql_match:\n",
    "        raise ValueError(f\"The LLM did not return a valid SQL query. Response was: {raw_response}\")\n",
    "\n",
    "    generated_sql = sql_match.group(0)\n",
    "    print(f\"Generated SQL: \\n{generated_sql}\\n\")\n",
    "\n",
    "    # Execute the extracted SQL query against your database\n",
    "    with engine.connect() as connection:\n",
    "        result = connection.execute(sqlalchemy.text(generated_sql))\n",
    "        # Get column names from the result proxy to create a list of dictionaries\n",
    "        columns = result.keys()\n",
    "        rows = [dict(zip(columns, row)) for row in result.fetchall()]\n",
    "        \n",
    "        print(\"Query Results:\")\n",
    "        if rows:\n",
    "            # A simple way to pretty-print the results\n",
    "            for row in rows:\n",
    "                print(row)\n",
    "        else:\n",
    "            print(\"No results found.\")\n",
    "\n",
    "except Exception as e:\n",
    "    print(f\"An error occurred: {e}\")\n"
   ]
  }
 ],
 "metadata": {
  "kernelspec": {
   "display_name": "venv (3.13.1)",
   "language": "python",
   "name": "python3"
  },
  "language_info": {
   "codemirror_mode": {
    "name": "ipython",
    "version": 3
   },
   "file_extension": ".py",
   "mimetype": "text/x-python",
   "name": "python",
   "nbconvert_exporter": "python",
   "pygments_lexer": "ipython3",
   "version": "3.13.1"
  }
 },
 "nbformat": 4,
 "nbformat_minor": 5
}
